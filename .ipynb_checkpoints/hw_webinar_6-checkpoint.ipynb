{
 "cells": [
  {
   "cell_type": "markdown",
   "metadata": {
    "id": "nMBdGcvjC4Ji"
   },
   "source": [
    "# Домашняя работа 6. Двухуровневые модели рекомендаций\n"
   ]
  },
  {
   "cell_type": "code",
   "execution_count": 1,
   "metadata": {
    "id": "5Aur99NsC4Jm",
    "outputId": "9b9a338b-a52f-4253-9694-ac431b62eefc"
   },
   "outputs": [],
   "source": [
    "import pandas as pd\n",
    "import numpy as np\n",
    "import functools as ft\n",
    "\n",
    "# Для работы с матрицами\n",
    "from scipy.sparse import csr_matrix\n",
    "\n",
    "# Матричная факторизация\n",
    "from implicit import als\n",
    "\n",
    "# Модель второго уровня\n",
    "from lightgbm import LGBMClassifier\n",
    "from catboost import CatBoostClassifier\n",
    "\n",
    "import os, sys\n",
    "module_path = os.path.abspath(os.path.join(os.pardir))\n",
    "if module_path not in sys.path:\n",
    "    sys.path.append(module_path)\n",
    "\n",
    "# Написанные нами функции\n",
    "from best_rec_lib.metrics import precision_at_k, recall_at_k, ap_k\n",
    "from best_rec_lib.utils import prefilter_items\n",
    "from best_rec_lib.recommenders import MainRecommender\n",
    "\n",
    "import gc\n",
    "\n",
    "import warnings\n",
    "warnings.filterwarnings(\"ignore\")"
   ]
  },
  {
   "cell_type": "code",
   "execution_count": 2,
   "metadata": {
    "id": "vso_erSdC4Jo",
    "outputId": "da20dbf1-3086-4fd6-ac92-f7653d7f9f71"
   },
   "outputs": [
    {
     "data": {
      "text/html": [
       "<div>\n",
       "<style scoped>\n",
       "    .dataframe tbody tr th:only-of-type {\n",
       "        vertical-align: middle;\n",
       "    }\n",
       "\n",
       "    .dataframe tbody tr th {\n",
       "        vertical-align: top;\n",
       "    }\n",
       "\n",
       "    .dataframe thead th {\n",
       "        text-align: right;\n",
       "    }\n",
       "</style>\n",
       "<table border=\"1\" class=\"dataframe\">\n",
       "  <thead>\n",
       "    <tr style=\"text-align: right;\">\n",
       "      <th></th>\n",
       "      <th>user_id</th>\n",
       "      <th>basket_id</th>\n",
       "      <th>day</th>\n",
       "      <th>item_id</th>\n",
       "      <th>quantity</th>\n",
       "      <th>sales_value</th>\n",
       "      <th>store_id</th>\n",
       "      <th>retail_disc</th>\n",
       "      <th>trans_time</th>\n",
       "      <th>week_no</th>\n",
       "      <th>coupon_disc</th>\n",
       "      <th>coupon_match_disc</th>\n",
       "    </tr>\n",
       "  </thead>\n",
       "  <tbody>\n",
       "    <tr>\n",
       "      <th>0</th>\n",
       "      <td>2375</td>\n",
       "      <td>26984851472</td>\n",
       "      <td>1</td>\n",
       "      <td>1004906</td>\n",
       "      <td>1</td>\n",
       "      <td>1.39</td>\n",
       "      <td>364</td>\n",
       "      <td>-0.6</td>\n",
       "      <td>1631</td>\n",
       "      <td>1</td>\n",
       "      <td>0.0</td>\n",
       "      <td>0.0</td>\n",
       "    </tr>\n",
       "    <tr>\n",
       "      <th>1</th>\n",
       "      <td>2375</td>\n",
       "      <td>26984851472</td>\n",
       "      <td>1</td>\n",
       "      <td>1033142</td>\n",
       "      <td>1</td>\n",
       "      <td>0.82</td>\n",
       "      <td>364</td>\n",
       "      <td>0.0</td>\n",
       "      <td>1631</td>\n",
       "      <td>1</td>\n",
       "      <td>0.0</td>\n",
       "      <td>0.0</td>\n",
       "    </tr>\n",
       "  </tbody>\n",
       "</table>\n",
       "</div>"
      ],
      "text/plain": [
       "   user_id    basket_id  day  item_id  quantity  sales_value  store_id  \\\n",
       "0     2375  26984851472    1  1004906         1         1.39       364   \n",
       "1     2375  26984851472    1  1033142         1         0.82       364   \n",
       "\n",
       "   retail_disc  trans_time  week_no  coupon_disc  coupon_match_disc  \n",
       "0         -0.6        1631        1          0.0                0.0  \n",
       "1          0.0        1631        1          0.0                0.0  "
      ]
     },
     "execution_count": 2,
     "metadata": {},
     "output_type": "execute_result"
    }
   ],
   "source": [
    "data = pd.read_csv('../retail_train.csv')\n",
    "item_features = pd.read_csv('../product.csv')\n",
    "user_features = pd.read_csv('../hh_demographic.csv')\n",
    "\n",
    "# column processing\n",
    "item_features.columns = [col.lower() for col in item_features.columns]\n",
    "user_features.columns = [col.lower() for col in user_features.columns]\n",
    "\n",
    "item_features.rename(columns={'product_id': 'item_id'}, inplace=True)\n",
    "user_features.rename(columns={'household_key': 'user_id'}, inplace=True)\n",
    "\n",
    "\n",
    "# Важна схема обучения и валидации!\n",
    "# -- давние покупки -- | -- 6 недель -- | -- 3 недель -- \n",
    "# подобрать размер 2-ого датасета (6 недель) --> learning curve (зависимость метрики recall@k от размера датасета)\n",
    "val_lvl_1_size_weeks = 6\n",
    "val_lvl_2_size_weeks = 3\n",
    "\n",
    "data_train_lvl_1 = data[data['week_no'] < data['week_no'].max() - (val_lvl_1_size_weeks + val_lvl_2_size_weeks)]\n",
    "data_val_lvl_1 = data[(data['week_no'] >= data['week_no'].max() - (val_lvl_1_size_weeks + val_lvl_2_size_weeks)) &\n",
    "                      (data['week_no'] < data['week_no'].max() - (val_lvl_2_size_weeks))]\n",
    "\n",
    "data_train_lvl_2 = data_val_lvl_1.copy()  # Для наглядности. Далее мы добавим изменения, и они будут отличаться\n",
    "data_val_lvl_2 = data[data['week_no'] >= data['week_no'].max() - val_lvl_2_size_weeks]\n",
    "\n",
    "data_train_lvl_1.head(2)"
   ]
  },
  {
   "cell_type": "code",
   "execution_count": 3,
   "metadata": {
    "id": "zcnV3l4XC4Jp",
    "outputId": "d58f889c-0671-4bb9-b2b6-2dc2e8c24fce"
   },
   "outputs": [
    {
     "name": "stdout",
     "output_type": "stream",
     "text": [
      "Decreased # items from 83685 to 5001\n"
     ]
    }
   ],
   "source": [
    "n_items_before = data_train_lvl_1['item_id'].nunique()\n",
    "\n",
    "data_train_lvl_1 = prefilter_items(data_train_lvl_1, item_features=item_features, take_n_popular=5000)\n",
    "\n",
    "n_items_after = data_train_lvl_1['item_id'].nunique()\n",
    "print('Decreased # items from {} to {}'.format(n_items_before, n_items_after))"
   ]
  },
  {
   "cell_type": "code",
   "execution_count": 4,
   "metadata": {
    "colab": {
     "referenced_widgets": [
      "729d4287bb794971802d9da5e141f10a",
      "32375ef613474af6a0fcadb9255eb835"
     ]
    },
    "id": "zgYXRQ0lC4Jq",
    "outputId": "d9ea41ae-3b4d-41b4-fc46-90868ebb9894"
   },
   "outputs": [
    {
     "data": {
      "application/vnd.jupyter.widget-view+json": {
       "model_id": "30cb99d6d17b4bf099e6fbea89167ee5",
       "version_major": 2,
       "version_minor": 0
      },
      "text/plain": [
       "  0%|          | 0/1 [00:00<?, ?it/s]"
      ]
     },
     "metadata": {},
     "output_type": "display_data"
    },
    {
     "data": {
      "application/vnd.jupyter.widget-view+json": {
       "model_id": "3c75478c8c894bcbbc4c200cb58b62bb",
       "version_major": 2,
       "version_minor": 0
      },
      "text/plain": [
       "  0%|          | 0/5001 [00:00<?, ?it/s]"
      ]
     },
     "metadata": {},
     "output_type": "display_data"
    }
   ],
   "source": [
    "recommender = MainRecommender(data_train_lvl_1)"
   ]
  },
  {
   "cell_type": "code",
   "execution_count": 5,
   "metadata": {
    "id": "xB9JX5swC4Jr",
    "outputId": "af05502b-1fb9-42b6-919c-b915ac3a0106"
   },
   "outputs": [
    {
     "data": {
      "text/plain": [
       "[899624, 1046545, 989069, 848029, 896613]"
      ]
     },
     "execution_count": 5,
     "metadata": {},
     "output_type": "execute_result"
    }
   ],
   "source": [
    "recommender.get_als_recommendations(2375, N=5)"
   ]
  },
  {
   "cell_type": "code",
   "execution_count": 6,
   "metadata": {
    "id": "PNVa6jWLC4Jr",
    "outputId": "c69395e4-8171-41f1-c0c4-067b582f26e0"
   },
   "outputs": [
    {
     "data": {
      "text/plain": [
       "[5707857, 918046, 907099, 948640, 998519]"
      ]
     },
     "execution_count": 6,
     "metadata": {},
     "output_type": "execute_result"
    }
   ],
   "source": [
    "recommender.get_own_recommendations(2375, N=5)"
   ]
  },
  {
   "cell_type": "code",
   "execution_count": 7,
   "metadata": {
    "id": "0NoB_lSJC4Js",
    "outputId": "9f91a42c-08bf-4037-fca1-54db5a5cafee"
   },
   "outputs": [
    {
     "data": {
      "text/plain": [
       "[1046545, 1044078, 899624, 1127831, 828121]"
      ]
     },
     "execution_count": 7,
     "metadata": {},
     "output_type": "execute_result"
    }
   ],
   "source": [
    "recommender.get_similar_items_recommendation(2375, N=5)"
   ]
  },
  {
   "cell_type": "code",
   "execution_count": 8,
   "metadata": {
    "id": "GdQO5CWKC4Js",
    "outputId": "08936fbf-715f-412a-9fbe-065816bb6a90"
   },
   "outputs": [
    {
     "data": {
      "text/plain": [
       "[976199, 843464, 5569230, 1039224, 847962]"
      ]
     },
     "execution_count": 8,
     "metadata": {},
     "output_type": "execute_result"
    }
   ],
   "source": [
    "recommender.get_similar_users_recommendation(2375, N=5)"
   ]
  },
  {
   "cell_type": "markdown",
   "metadata": {
    "id": "Bqs9Sw_YC4Jt"
   },
   "source": [
    "### Задание 1\n",
    "\n",
    "A) Попробуйте различные варианты генерации кандидатов. Какие из них дают наибольший recall@k ?\n",
    "- Пока пробуем отобрать 50 кандидатов (k=50)\n",
    "- Качество измеряем на data_val_lvl_1: следующие 6 недель после трейна\n",
    "\n",
    "Дают ли own recommendtions + top-popular лучший recall?  \n",
    "\n",
    "B)* Как зависит recall@k от k? Постройте для одной схемы генерации кандидатов эту зависимость для k = {20, 50, 100, 200, 500}  \n",
    "C)* Исходя из прошлого вопроса, как вы думаете, какое значение k является наиболее разумным?\n"
   ]
  },
  {
   "cell_type": "code",
   "execution_count": 9,
   "metadata": {
    "id": "frt2RzDWC4Jt",
    "outputId": "7c594abf-4a34-406b-9897-8bfbddf69a93"
   },
   "outputs": [
    {
     "data": {
      "text/html": [
       "<div>\n",
       "<style scoped>\n",
       "    .dataframe tbody tr th:only-of-type {\n",
       "        vertical-align: middle;\n",
       "    }\n",
       "\n",
       "    .dataframe tbody tr th {\n",
       "        vertical-align: top;\n",
       "    }\n",
       "\n",
       "    .dataframe thead th {\n",
       "        text-align: right;\n",
       "    }\n",
       "</style>\n",
       "<table border=\"1\" class=\"dataframe\">\n",
       "  <thead>\n",
       "    <tr style=\"text-align: right;\">\n",
       "      <th></th>\n",
       "      <th>user_id</th>\n",
       "      <th>actual</th>\n",
       "    </tr>\n",
       "  </thead>\n",
       "  <tbody>\n",
       "    <tr>\n",
       "      <th>0</th>\n",
       "      <td>1</td>\n",
       "      <td>[853529, 865456, 867607, 872137, 874905, 87524...</td>\n",
       "    </tr>\n",
       "    <tr>\n",
       "      <th>1</th>\n",
       "      <td>2</td>\n",
       "      <td>[15830248, 838136, 839656, 861272, 866211, 870...</td>\n",
       "    </tr>\n",
       "  </tbody>\n",
       "</table>\n",
       "</div>"
      ],
      "text/plain": [
       "   user_id                                             actual\n",
       "0        1  [853529, 865456, 867607, 872137, 874905, 87524...\n",
       "1        2  [15830248, 838136, 839656, 861272, 866211, 870..."
      ]
     },
     "execution_count": 9,
     "metadata": {},
     "output_type": "execute_result"
    }
   ],
   "source": [
    "result_lvl_1 = data_val_lvl_1.groupby('user_id')['item_id'].unique().reset_index()\n",
    "result_lvl_1.columns=['user_id', 'actual']\n",
    "result_lvl_1.head(2)"
   ]
  },
  {
   "cell_type": "code",
   "execution_count": 10,
   "metadata": {},
   "outputs": [
    {
     "name": "stdout",
     "output_type": "stream",
     "text": [
      "В тестовом дата сете 2154 юзеров\n",
      "В тестовом дата сете 3 новых юзеров\n"
     ]
    }
   ],
   "source": [
    "test_users = result_lvl_1.shape[0]\n",
    "new_test_users = len(set(data_val_lvl_1['user_id']) - set(data_train_lvl_1['user_id']))\n",
    "\n",
    "print('В тестовом дата сете {} юзеров'.format(test_users))\n",
    "print('В тестовом дата сете {} новых юзеров'.format(new_test_users))\n",
    "new_test_users = list(set(data_val_lvl_1['user_id']) - set(data_train_lvl_1['user_id']))"
   ]
  },
  {
   "cell_type": "code",
   "execution_count": 11,
   "metadata": {},
   "outputs": [],
   "source": [
    "result_lvl_1 = result_lvl_1[~result_lvl_1['user_id'].isin(new_test_users)]"
   ]
  },
  {
   "cell_type": "markdown",
   "metadata": {},
   "source": [
    "**A.**"
   ]
  },
  {
   "cell_type": "code",
   "execution_count": 12,
   "metadata": {},
   "outputs": [
    {
     "name": "stdout",
     "output_type": "stream",
     "text": [
      "CPU times: total: 16min 24s\n",
      "Wall time: 1min 59s\n"
     ]
    }
   ],
   "source": [
    "%%time\n",
    "result_lvl_1['als_bm25_50'] = [recommender.get_als_recommendations(el, N=50) for el in result_lvl_1['user_id']]\n",
    "result_lvl_1['own_rec_50'] = [recommender.get_own_recommendations(el, N=50) for el in result_lvl_1['user_id']]\n",
    "result_lvl_1['sim_user_rec_50'] = [recommender.get_similar_users_recommendation(el, N=50) for el in result_lvl_1['user_id']]\n",
    "result_lvl_1['sim_item_rec_50'] = [recommender.get_similar_items_recommendation(el, N=50) for el in result_lvl_1['user_id']]"
   ]
  },
  {
   "cell_type": "code",
   "execution_count": 13,
   "metadata": {},
   "outputs": [
    {
     "data": {
      "text/html": [
       "<div>\n",
       "<style scoped>\n",
       "    .dataframe tbody tr th:only-of-type {\n",
       "        vertical-align: middle;\n",
       "    }\n",
       "\n",
       "    .dataframe tbody tr th {\n",
       "        vertical-align: top;\n",
       "    }\n",
       "\n",
       "    .dataframe thead th {\n",
       "        text-align: right;\n",
       "    }\n",
       "</style>\n",
       "<table border=\"1\" class=\"dataframe\">\n",
       "  <thead>\n",
       "    <tr style=\"text-align: right;\">\n",
       "      <th></th>\n",
       "      <th>user_id</th>\n",
       "      <th>actual</th>\n",
       "      <th>als_bm25_50</th>\n",
       "      <th>own_rec_50</th>\n",
       "      <th>sim_user_rec_50</th>\n",
       "      <th>sim_item_rec_50</th>\n",
       "    </tr>\n",
       "  </thead>\n",
       "  <tbody>\n",
       "    <tr>\n",
       "      <th>0</th>\n",
       "      <td>1</td>\n",
       "      <td>[853529, 865456, 867607, 872137, 874905, 87524...</td>\n",
       "      <td>[856942, 5577022, 940947, 9297615, 8090541, 96...</td>\n",
       "      <td>[856942, 5707857, 9297615, 5577022, 9655212, 8...</td>\n",
       "      <td>[1029743, 916990, 1029743, 1126899, 5569230, 1...</td>\n",
       "      <td>[951188, 5582712, 9297615, 828121, 1132231, 95...</td>\n",
       "    </tr>\n",
       "    <tr>\n",
       "      <th>1</th>\n",
       "      <td>2</td>\n",
       "      <td>[15830248, 838136, 839656, 861272, 866211, 870...</td>\n",
       "      <td>[8090521, 5569230, 1106523, 916122, 940947, 10...</td>\n",
       "      <td>[5707857, 911974, 1076580, 1075368, 896666, 80...</td>\n",
       "      <td>[1029743, 844179, 933835, 1067695, 978129, 959...</td>\n",
       "      <td>[8090537, 899624, 1021324, 985999, 819978, 880...</td>\n",
       "    </tr>\n",
       "    <tr>\n",
       "      <th>2</th>\n",
       "      <td>4</td>\n",
       "      <td>[883932, 970760, 1035676, 1055863, 1097610, 67...</td>\n",
       "      <td>[883932, 5569230, 891423, 1082627, 6391541, 93...</td>\n",
       "      <td>[6391541, 1052294, 891423, 5707857, 936470, 91...</td>\n",
       "      <td>[5569230, 1016195, 1037840, 896666, 1106523, 1...</td>\n",
       "      <td>[12696099, 1069256, 1069256, 951188, 859809, 9...</td>\n",
       "    </tr>\n",
       "    <tr>\n",
       "      <th>3</th>\n",
       "      <td>6</td>\n",
       "      <td>[1024306, 1102949, 6548453, 835394, 940804, 96...</td>\n",
       "      <td>[878996, 863447, 5569230, 965267, 1008547, 896...</td>\n",
       "      <td>[5707857, 13003092, 1108094, 8203834, 1063207,...</td>\n",
       "      <td>[1004906, 1106523, 1029743, 1106523, 961979, 6...</td>\n",
       "      <td>[948650, 1021324, 951188, 878996, 1127831, 844...</td>\n",
       "    </tr>\n",
       "    <tr>\n",
       "      <th>4</th>\n",
       "      <td>7</td>\n",
       "      <td>[836281, 843306, 845294, 914190, 920456, 93886...</td>\n",
       "      <td>[1122358, 7144132, 5981267, 1136033, 5590695, ...</td>\n",
       "      <td>[5707857, 1122358, 894360, 998519, 896666, 714...</td>\n",
       "      <td>[1029743, 1040807, 1112238, 6463907, 1050851, ...</td>\n",
       "      <td>[1019247, 5570590, 899624, 951188, 6602697, 10...</td>\n",
       "    </tr>\n",
       "  </tbody>\n",
       "</table>\n",
       "</div>"
      ],
      "text/plain": [
       "   user_id                                             actual  \\\n",
       "0        1  [853529, 865456, 867607, 872137, 874905, 87524...   \n",
       "1        2  [15830248, 838136, 839656, 861272, 866211, 870...   \n",
       "2        4  [883932, 970760, 1035676, 1055863, 1097610, 67...   \n",
       "3        6  [1024306, 1102949, 6548453, 835394, 940804, 96...   \n",
       "4        7  [836281, 843306, 845294, 914190, 920456, 93886...   \n",
       "\n",
       "                                         als_bm25_50  \\\n",
       "0  [856942, 5577022, 940947, 9297615, 8090541, 96...   \n",
       "1  [8090521, 5569230, 1106523, 916122, 940947, 10...   \n",
       "2  [883932, 5569230, 891423, 1082627, 6391541, 93...   \n",
       "3  [878996, 863447, 5569230, 965267, 1008547, 896...   \n",
       "4  [1122358, 7144132, 5981267, 1136033, 5590695, ...   \n",
       "\n",
       "                                          own_rec_50  \\\n",
       "0  [856942, 5707857, 9297615, 5577022, 9655212, 8...   \n",
       "1  [5707857, 911974, 1076580, 1075368, 896666, 80...   \n",
       "2  [6391541, 1052294, 891423, 5707857, 936470, 91...   \n",
       "3  [5707857, 13003092, 1108094, 8203834, 1063207,...   \n",
       "4  [5707857, 1122358, 894360, 998519, 896666, 714...   \n",
       "\n",
       "                                     sim_user_rec_50  \\\n",
       "0  [1029743, 916990, 1029743, 1126899, 5569230, 1...   \n",
       "1  [1029743, 844179, 933835, 1067695, 978129, 959...   \n",
       "2  [5569230, 1016195, 1037840, 896666, 1106523, 1...   \n",
       "3  [1004906, 1106523, 1029743, 1106523, 961979, 6...   \n",
       "4  [1029743, 1040807, 1112238, 6463907, 1050851, ...   \n",
       "\n",
       "                                     sim_item_rec_50  \n",
       "0  [951188, 5582712, 9297615, 828121, 1132231, 95...  \n",
       "1  [8090537, 899624, 1021324, 985999, 819978, 880...  \n",
       "2  [12696099, 1069256, 1069256, 951188, 859809, 9...  \n",
       "3  [948650, 1021324, 951188, 878996, 1127831, 844...  \n",
       "4  [1019247, 5570590, 899624, 951188, 6602697, 10...  "
      ]
     },
     "execution_count": 13,
     "metadata": {},
     "output_type": "execute_result"
    }
   ],
   "source": [
    "result_lvl_1.head()"
   ]
  },
  {
   "cell_type": "code",
   "execution_count": 14,
   "metadata": {},
   "outputs": [
    {
     "data": {
      "text/plain": [
       "0.0909067195803016"
      ]
     },
     "execution_count": 14,
     "metadata": {},
     "output_type": "execute_result"
    }
   ],
   "source": [
    "result_lvl_1.apply(lambda row: recall_at_k(row['als_bm25_50'], row['actual'], 50), axis=1).mean()"
   ]
  },
  {
   "cell_type": "code",
   "execution_count": 15,
   "metadata": {},
   "outputs": [
    {
     "data": {
      "text/plain": [
       "0.07976436828697824"
      ]
     },
     "execution_count": 15,
     "metadata": {},
     "output_type": "execute_result"
    }
   ],
   "source": [
    "result_lvl_1.apply(lambda row: recall_at_k(row['own_rec_50'], row['actual'], 50), axis=1).mean()"
   ]
  },
  {
   "cell_type": "code",
   "execution_count": 16,
   "metadata": {},
   "outputs": [
    {
     "data": {
      "text/plain": [
       "0.08089152996344934"
      ]
     },
     "execution_count": 16,
     "metadata": {},
     "output_type": "execute_result"
    }
   ],
   "source": [
    "result_lvl_1.apply(lambda row: recall_at_k(row['sim_user_rec_50'], row['actual'], 50), axis=1).mean()"
   ]
  },
  {
   "cell_type": "code",
   "execution_count": 17,
   "metadata": {},
   "outputs": [
    {
     "data": {
      "text/plain": [
       "0.04014881203827246"
      ]
     },
     "execution_count": 17,
     "metadata": {},
     "output_type": "execute_result"
    }
   ],
   "source": [
    "result_lvl_1.apply(lambda row: recall_at_k(row['sim_item_rec_50'], row['actual'], 50), axis=1).mean()"
   ]
  },
  {
   "cell_type": "markdown",
   "metadata": {},
   "source": [
    "**Вопрос:** Дают ли own recommendtions + top-popular лучший recall?\n",
    "\n",
    "**Ответ:** Нет. Лучший recall дают als_bm25 + top-popular"
   ]
  },
  {
   "cell_type": "markdown",
   "metadata": {},
   "source": [
    "**B.**"
   ]
  },
  {
   "cell_type": "markdown",
   "metadata": {},
   "source": [
    "Сделаем перебор параметра k для двух лучших моделей als_bm25 и own_rec"
   ]
  },
  {
   "cell_type": "code",
   "execution_count": 18,
   "metadata": {
    "id": "xM5W4mU4C4Jt"
   },
   "outputs": [],
   "source": [
    "k_rec = [20, 50, 100, 200, 350, 500]"
   ]
  },
  {
   "cell_type": "code",
   "execution_count": 19,
   "metadata": {},
   "outputs": [],
   "source": [
    "# Словарь метрик\n",
    "recall_met = dict()"
   ]
  },
  {
   "cell_type": "code",
   "execution_count": 20,
   "metadata": {},
   "outputs": [
    {
     "name": "stdout",
     "output_type": "stream",
     "text": [
      "CPU times: total: 13min 6s\n",
      "Wall time: 2min 1s\n"
     ]
    }
   ],
   "source": [
    "%%time\n",
    "for el in k_rec:\n",
    "    result_lvl_1[f'als_bm25_{el}'] = [recommender.get_als_recommendations(x, N=el) for x in result_lvl_1['user_id']]\n",
    "    result_lvl_1[f'own_rec_{el}'] = [recommender.get_own_recommendations(x, N=el) for x in result_lvl_1['user_id']]\n",
    "    recall_met[f'als_bm25_{el}'] = result_lvl_1.apply(lambda row: recall_at_k(row[f'als_bm25_{el}'], row['actual'], el), axis=1).mean()\n",
    "    recall_met[f'own_rec_{el}'] = result_lvl_1.apply(lambda row: recall_at_k(row[f'own_rec_{el}'], row['actual'], el), axis=1).mean()"
   ]
  },
  {
   "cell_type": "code",
   "execution_count": 21,
   "metadata": {},
   "outputs": [
    {
     "data": {
      "text/html": [
       "<div>\n",
       "<style scoped>\n",
       "    .dataframe tbody tr th:only-of-type {\n",
       "        vertical-align: middle;\n",
       "    }\n",
       "\n",
       "    .dataframe tbody tr th {\n",
       "        vertical-align: top;\n",
       "    }\n",
       "\n",
       "    .dataframe thead th {\n",
       "        text-align: right;\n",
       "    }\n",
       "</style>\n",
       "<table border=\"1\" class=\"dataframe\">\n",
       "  <thead>\n",
       "    <tr style=\"text-align: right;\">\n",
       "      <th></th>\n",
       "      <th>user_id</th>\n",
       "      <th>actual</th>\n",
       "      <th>als_bm25_50</th>\n",
       "      <th>own_rec_50</th>\n",
       "      <th>sim_user_rec_50</th>\n",
       "      <th>sim_item_rec_50</th>\n",
       "      <th>als_bm25_20</th>\n",
       "      <th>own_rec_20</th>\n",
       "      <th>als_bm25_100</th>\n",
       "      <th>own_rec_100</th>\n",
       "      <th>als_bm25_200</th>\n",
       "      <th>own_rec_200</th>\n",
       "      <th>als_bm25_350</th>\n",
       "      <th>own_rec_350</th>\n",
       "      <th>als_bm25_500</th>\n",
       "      <th>own_rec_500</th>\n",
       "    </tr>\n",
       "  </thead>\n",
       "  <tbody>\n",
       "    <tr>\n",
       "      <th>0</th>\n",
       "      <td>1</td>\n",
       "      <td>[853529, 865456, 867607, 872137, 874905, 87524...</td>\n",
       "      <td>[856942, 5577022, 940947, 9297615, 8090541, 96...</td>\n",
       "      <td>[856942, 5707857, 9297615, 5577022, 9655212, 8...</td>\n",
       "      <td>[1029743, 916990, 1029743, 1126899, 5569230, 1...</td>\n",
       "      <td>[951188, 5582712, 9297615, 828121, 1132231, 95...</td>\n",
       "      <td>[856942, 5577022, 940947, 9297615, 8090541, 96...</td>\n",
       "      <td>[856942, 5707857, 9297615, 5577022, 9655212, 8...</td>\n",
       "      <td>[856942, 5577022, 940947, 9297615, 8090541, 96...</td>\n",
       "      <td>[856942, 5707857, 9297615, 5577022, 9655212, 8...</td>\n",
       "      <td>[856942, 5577022, 940947, 9297615, 8090541, 96...</td>\n",
       "      <td>[856942, 5707857, 9297615, 5577022, 9655212, 8...</td>\n",
       "      <td>[856942, 5577022, 940947, 9297615, 8090541, 96...</td>\n",
       "      <td>[856942, 5707857, 9297615, 5577022, 9655212, 8...</td>\n",
       "      <td>[856942, 5577022, 940947, 9297615, 8090541, 96...</td>\n",
       "      <td>[856942, 5707857, 9297615, 5577022, 9655212, 8...</td>\n",
       "    </tr>\n",
       "    <tr>\n",
       "      <th>1</th>\n",
       "      <td>2</td>\n",
       "      <td>[15830248, 838136, 839656, 861272, 866211, 870...</td>\n",
       "      <td>[8090521, 5569230, 1106523, 916122, 940947, 10...</td>\n",
       "      <td>[5707857, 911974, 1076580, 1075368, 896666, 80...</td>\n",
       "      <td>[1029743, 844179, 933835, 1067695, 978129, 959...</td>\n",
       "      <td>[8090537, 899624, 1021324, 985999, 819978, 880...</td>\n",
       "      <td>[8090521, 5569230, 1106523, 916122, 940947, 10...</td>\n",
       "      <td>[5707857, 911974, 1076580, 1075368, 896666, 80...</td>\n",
       "      <td>[8090521, 5569230, 1106523, 916122, 940947, 10...</td>\n",
       "      <td>[5707857, 911974, 1076580, 1075368, 896666, 80...</td>\n",
       "      <td>[8090521, 5569230, 1106523, 916122, 940947, 10...</td>\n",
       "      <td>[5707857, 911974, 1076580, 1075368, 896666, 80...</td>\n",
       "      <td>[8090521, 5569230, 1106523, 916122, 940947, 10...</td>\n",
       "      <td>[5707857, 911974, 1076580, 1075368, 896666, 80...</td>\n",
       "      <td>[8090521, 5569230, 1106523, 916122, 940947, 10...</td>\n",
       "      <td>[5707857, 911974, 1076580, 1075368, 896666, 80...</td>\n",
       "    </tr>\n",
       "    <tr>\n",
       "      <th>2</th>\n",
       "      <td>4</td>\n",
       "      <td>[883932, 970760, 1035676, 1055863, 1097610, 67...</td>\n",
       "      <td>[883932, 5569230, 891423, 1082627, 6391541, 93...</td>\n",
       "      <td>[6391541, 1052294, 891423, 5707857, 936470, 91...</td>\n",
       "      <td>[5569230, 1016195, 1037840, 896666, 1106523, 1...</td>\n",
       "      <td>[12696099, 1069256, 1069256, 951188, 859809, 9...</td>\n",
       "      <td>[883932, 5569230, 891423, 1082627, 6391541, 93...</td>\n",
       "      <td>[6391541, 1052294, 891423, 5707857, 936470, 91...</td>\n",
       "      <td>[883932, 5569230, 891423, 1082627, 6391541, 93...</td>\n",
       "      <td>[6391541, 1052294, 891423, 5707857, 936470, 91...</td>\n",
       "      <td>[883932, 5569230, 891423, 1082627, 6391541, 93...</td>\n",
       "      <td>[6391541, 1052294, 891423, 5707857, 936470, 91...</td>\n",
       "      <td>[883932, 5569230, 891423, 1082627, 6391541, 93...</td>\n",
       "      <td>[6391541, 1052294, 891423, 5707857, 936470, 91...</td>\n",
       "      <td>[883932, 5569230, 891423, 1082627, 6391541, 93...</td>\n",
       "      <td>[6391541, 1052294, 891423, 5707857, 936470, 91...</td>\n",
       "    </tr>\n",
       "  </tbody>\n",
       "</table>\n",
       "</div>"
      ],
      "text/plain": [
       "   user_id                                             actual  \\\n",
       "0        1  [853529, 865456, 867607, 872137, 874905, 87524...   \n",
       "1        2  [15830248, 838136, 839656, 861272, 866211, 870...   \n",
       "2        4  [883932, 970760, 1035676, 1055863, 1097610, 67...   \n",
       "\n",
       "                                         als_bm25_50  \\\n",
       "0  [856942, 5577022, 940947, 9297615, 8090541, 96...   \n",
       "1  [8090521, 5569230, 1106523, 916122, 940947, 10...   \n",
       "2  [883932, 5569230, 891423, 1082627, 6391541, 93...   \n",
       "\n",
       "                                          own_rec_50  \\\n",
       "0  [856942, 5707857, 9297615, 5577022, 9655212, 8...   \n",
       "1  [5707857, 911974, 1076580, 1075368, 896666, 80...   \n",
       "2  [6391541, 1052294, 891423, 5707857, 936470, 91...   \n",
       "\n",
       "                                     sim_user_rec_50  \\\n",
       "0  [1029743, 916990, 1029743, 1126899, 5569230, 1...   \n",
       "1  [1029743, 844179, 933835, 1067695, 978129, 959...   \n",
       "2  [5569230, 1016195, 1037840, 896666, 1106523, 1...   \n",
       "\n",
       "                                     sim_item_rec_50  \\\n",
       "0  [951188, 5582712, 9297615, 828121, 1132231, 95...   \n",
       "1  [8090537, 899624, 1021324, 985999, 819978, 880...   \n",
       "2  [12696099, 1069256, 1069256, 951188, 859809, 9...   \n",
       "\n",
       "                                         als_bm25_20  \\\n",
       "0  [856942, 5577022, 940947, 9297615, 8090541, 96...   \n",
       "1  [8090521, 5569230, 1106523, 916122, 940947, 10...   \n",
       "2  [883932, 5569230, 891423, 1082627, 6391541, 93...   \n",
       "\n",
       "                                          own_rec_20  \\\n",
       "0  [856942, 5707857, 9297615, 5577022, 9655212, 8...   \n",
       "1  [5707857, 911974, 1076580, 1075368, 896666, 80...   \n",
       "2  [6391541, 1052294, 891423, 5707857, 936470, 91...   \n",
       "\n",
       "                                        als_bm25_100  \\\n",
       "0  [856942, 5577022, 940947, 9297615, 8090541, 96...   \n",
       "1  [8090521, 5569230, 1106523, 916122, 940947, 10...   \n",
       "2  [883932, 5569230, 891423, 1082627, 6391541, 93...   \n",
       "\n",
       "                                         own_rec_100  \\\n",
       "0  [856942, 5707857, 9297615, 5577022, 9655212, 8...   \n",
       "1  [5707857, 911974, 1076580, 1075368, 896666, 80...   \n",
       "2  [6391541, 1052294, 891423, 5707857, 936470, 91...   \n",
       "\n",
       "                                        als_bm25_200  \\\n",
       "0  [856942, 5577022, 940947, 9297615, 8090541, 96...   \n",
       "1  [8090521, 5569230, 1106523, 916122, 940947, 10...   \n",
       "2  [883932, 5569230, 891423, 1082627, 6391541, 93...   \n",
       "\n",
       "                                         own_rec_200  \\\n",
       "0  [856942, 5707857, 9297615, 5577022, 9655212, 8...   \n",
       "1  [5707857, 911974, 1076580, 1075368, 896666, 80...   \n",
       "2  [6391541, 1052294, 891423, 5707857, 936470, 91...   \n",
       "\n",
       "                                        als_bm25_350  \\\n",
       "0  [856942, 5577022, 940947, 9297615, 8090541, 96...   \n",
       "1  [8090521, 5569230, 1106523, 916122, 940947, 10...   \n",
       "2  [883932, 5569230, 891423, 1082627, 6391541, 93...   \n",
       "\n",
       "                                         own_rec_350  \\\n",
       "0  [856942, 5707857, 9297615, 5577022, 9655212, 8...   \n",
       "1  [5707857, 911974, 1076580, 1075368, 896666, 80...   \n",
       "2  [6391541, 1052294, 891423, 5707857, 936470, 91...   \n",
       "\n",
       "                                        als_bm25_500  \\\n",
       "0  [856942, 5577022, 940947, 9297615, 8090541, 96...   \n",
       "1  [8090521, 5569230, 1106523, 916122, 940947, 10...   \n",
       "2  [883932, 5569230, 891423, 1082627, 6391541, 93...   \n",
       "\n",
       "                                         own_rec_500  \n",
       "0  [856942, 5707857, 9297615, 5577022, 9655212, 8...  \n",
       "1  [5707857, 911974, 1076580, 1075368, 896666, 80...  \n",
       "2  [6391541, 1052294, 891423, 5707857, 936470, 91...  "
      ]
     },
     "execution_count": 21,
     "metadata": {},
     "output_type": "execute_result"
    }
   ],
   "source": [
    "result_lvl_1.head(3)"
   ]
  },
  {
   "cell_type": "code",
   "execution_count": 22,
   "metadata": {},
   "outputs": [
    {
     "data": {
      "text/html": [
       "<div>\n",
       "<style scoped>\n",
       "    .dataframe tbody tr th:only-of-type {\n",
       "        vertical-align: middle;\n",
       "    }\n",
       "\n",
       "    .dataframe tbody tr th {\n",
       "        vertical-align: top;\n",
       "    }\n",
       "\n",
       "    .dataframe thead th {\n",
       "        text-align: right;\n",
       "    }\n",
       "</style>\n",
       "<table border=\"1\" class=\"dataframe\">\n",
       "  <thead>\n",
       "    <tr style=\"text-align: right;\">\n",
       "      <th></th>\n",
       "      <th>Recall@k</th>\n",
       "    </tr>\n",
       "  </thead>\n",
       "  <tbody>\n",
       "    <tr>\n",
       "      <th>own_rec_500</th>\n",
       "      <td>0.189449</td>\n",
       "    </tr>\n",
       "    <tr>\n",
       "      <th>als_bm25_500</th>\n",
       "      <td>0.185962</td>\n",
       "    </tr>\n",
       "    <tr>\n",
       "      <th>own_rec_350</th>\n",
       "      <td>0.173150</td>\n",
       "    </tr>\n",
       "    <tr>\n",
       "      <th>als_bm25_350</th>\n",
       "      <td>0.171528</td>\n",
       "    </tr>\n",
       "    <tr>\n",
       "      <th>als_bm25_200</th>\n",
       "      <td>0.149044</td>\n",
       "    </tr>\n",
       "    <tr>\n",
       "      <th>own_rec_200</th>\n",
       "      <td>0.145225</td>\n",
       "    </tr>\n",
       "    <tr>\n",
       "      <th>als_bm25_100</th>\n",
       "      <td>0.119237</td>\n",
       "    </tr>\n",
       "    <tr>\n",
       "      <th>own_rec_100</th>\n",
       "      <td>0.108924</td>\n",
       "    </tr>\n",
       "    <tr>\n",
       "      <th>als_bm25_50</th>\n",
       "      <td>0.090907</td>\n",
       "    </tr>\n",
       "    <tr>\n",
       "      <th>own_rec_50</th>\n",
       "      <td>0.079764</td>\n",
       "    </tr>\n",
       "    <tr>\n",
       "      <th>als_bm25_20</th>\n",
       "      <td>0.060047</td>\n",
       "    </tr>\n",
       "    <tr>\n",
       "      <th>own_rec_20</th>\n",
       "      <td>0.049064</td>\n",
       "    </tr>\n",
       "  </tbody>\n",
       "</table>\n",
       "</div>"
      ],
      "text/plain": [
       "              Recall@k\n",
       "own_rec_500   0.189449\n",
       "als_bm25_500  0.185962\n",
       "own_rec_350   0.173150\n",
       "als_bm25_350  0.171528\n",
       "als_bm25_200  0.149044\n",
       "own_rec_200   0.145225\n",
       "als_bm25_100  0.119237\n",
       "own_rec_100   0.108924\n",
       "als_bm25_50   0.090907\n",
       "own_rec_50    0.079764\n",
       "als_bm25_20   0.060047\n",
       "own_rec_20    0.049064"
      ]
     },
     "execution_count": 22,
     "metadata": {},
     "output_type": "execute_result"
    }
   ],
   "source": [
    "recall_data = pd.DataFrame(recall_met, index =['Recall@k'])\n",
    "recall_data = recall_data.T\n",
    "recall_data.sort_values('Recall@k', ascending=False)"
   ]
  },
  {
   "cell_type": "markdown",
   "metadata": {},
   "source": [
    "**Выводы** С увеличением количества рекомендаций увеличивается и показатель Recall@k, что логично, т.к. чем больше рекомендаций, тем больше вероятность, что в ней окажутся реально купленные пользователем товары.\n",
    "\n",
    "Думаю, что в данном случае оптимальным будет значение k=350 при использовании модели own_rec."
   ]
  },
  {
   "cell_type": "markdown",
   "metadata": {
    "id": "bAHJu3Z5C4Ju"
   },
   "source": [
    "### Задание 2.\n",
    "\n",
    "Обучите модель 2-ого уровня, при этом:\n",
    "    - Добавьте минимум по 2 фичи для юзера, товара и пары юзер-товар\n",
    "    - Измерьте отдельно precision@5 модели 1-ого уровня и двухуровневой модели на data_val_lvl_2\n",
    "    - Вырос ли precision@5 при использовании двухуровневой модели?"
   ]
  },
  {
   "cell_type": "code",
   "execution_count": 23,
   "metadata": {
    "id": "XZQcrch7C4Ju"
   },
   "outputs": [],
   "source": [
    "users_lvl_2 = pd.DataFrame(data_train_lvl_2['user_id'].unique())\n",
    "users_lvl_2.columns = ['user_id']\n",
    "\n",
    "# Пока только warm start\n",
    "train_users = data_train_lvl_1['user_id'].unique()\n",
    "users_lvl_2 = users_lvl_2[users_lvl_2['user_id'].isin(train_users)]\n",
    "\n",
    "users_lvl_2['candidates'] = users_lvl_2['user_id'].apply(lambda x: recommender.get_own_recommendations(x, N=350))"
   ]
  },
  {
   "cell_type": "code",
   "execution_count": 24,
   "metadata": {},
   "outputs": [],
   "source": [
    "s = users_lvl_2.apply(lambda x: pd.Series(x['candidates']), axis=1).stack().reset_index(level=1, drop=True)\n",
    "s.name = 'item_id'\n",
    "\n",
    "users_lvl_2 = users_lvl_2.drop('candidates', axis=1).join(s)\n",
    "users_lvl_2['flag'] = 1"
   ]
  },
  {
   "cell_type": "code",
   "execution_count": 25,
   "metadata": {},
   "outputs": [],
   "source": [
    "targets_lvl_2 = data_train_lvl_2[['user_id', 'item_id']].copy()\n",
    "targets_lvl_2['target'] = 1  # тут только покупки \n",
    "\n",
    "targets_lvl_2 = users_lvl_2.merge(targets_lvl_2, on=['user_id', 'item_id'], how='left')\n",
    "\n",
    "targets_lvl_2['target'].fillna(0, inplace= True)\n",
    "targets_lvl_2.drop('flag', axis=1, inplace=True)"
   ]
  },
  {
   "cell_type": "markdown",
   "metadata": {},
   "source": [
    "Добавим следующие фичи:\n",
    "1. Для пользователя:\n",
    "- средний чек пользователя\n",
    "- средний чек пользователя по категориям товаров\n",
    "- максимальный чек пользователя\n",
    "- максимальный чек пользователя по категориям товаров\n",
    "2. Для товара:\n",
    "- мода возрастной категории, приобретающих товар\n",
    "- мода категории дохода, приобретающих товар\n",
    "3. Для пары user-товар:\n",
    "- среднее количество покупок пользователями товаров данной категории\n",
    "- средний чек всех пользователей по категории товара "
   ]
  },
  {
   "cell_type": "code",
   "execution_count": 26,
   "metadata": {},
   "outputs": [],
   "source": [
    "user_feats = user_features[['user_id', 'age_desc', 'income_desc']]"
   ]
  },
  {
   "cell_type": "code",
   "execution_count": 27,
   "metadata": {},
   "outputs": [],
   "source": [
    "item_feats = item_features[['item_id', 'department']]"
   ]
  },
  {
   "cell_type": "code",
   "execution_count": 28,
   "metadata": {},
   "outputs": [],
   "source": [
    "spam_features_lvl_1 = data_train_lvl_1.merge(user_feats, on='user_id', how='left')\n",
    "spam_features_lvl_1 = spam_features_lvl_1.merge(item_feats, on='item_id', how='left')"
   ]
  },
  {
   "cell_type": "code",
   "execution_count": 29,
   "metadata": {},
   "outputs": [
    {
     "data": {
      "text/plain": [
       "0"
      ]
     },
     "execution_count": 29,
     "metadata": {},
     "output_type": "execute_result"
    }
   ],
   "source": [
    "del user_feats\n",
    "del item_feats\n",
    "\n",
    "gc.collect()"
   ]
  },
  {
   "cell_type": "markdown",
   "metadata": {},
   "source": [
    "Фичи для пары user-товар"
   ]
  },
  {
   "cell_type": "code",
   "execution_count": 30,
   "metadata": {},
   "outputs": [],
   "source": [
    "# Среднее количество покупок пользователями по категориям\n",
    "weeks = spam_features_lvl_1.week_no.max()\n",
    "cat_num_week_buy = spam_features_lvl_1.groupby(['department'])[['sales_value']].count()\n",
    "cat_num_week_buy = cat_num_week_buy.rename (columns= {'sales_value': 'cat_num_week_buy'})\n",
    "cat_num_week_buy['cat_num_week_buy'] = cat_num_week_buy['cat_num_week_buy'] / weeks"
   ]
  },
  {
   "cell_type": "code",
   "execution_count": 31,
   "metadata": {},
   "outputs": [],
   "source": [
    "# средний чек всех пользователей по категории товара\n",
    "avg_check_cat_all_users = spam_features_lvl_1.groupby(['department'])[['sales_value']].mean()\n",
    "avg_check_cat_all_users = avg_check_cat_all_users.rename (columns= {'sales_value': 'avg_check_cat_all_users'})"
   ]
  },
  {
   "cell_type": "markdown",
   "metadata": {},
   "source": [
    "Фичи для user"
   ]
  },
  {
   "cell_type": "code",
   "execution_count": 32,
   "metadata": {},
   "outputs": [
    {
     "data": {
      "text/plain": [
       "0"
      ]
     },
     "execution_count": 32,
     "metadata": {},
     "output_type": "execute_result"
    }
   ],
   "source": [
    "# средний и максимальный чек пользователя\n",
    "check = spam_features_lvl_1.groupby(['user_id', 'basket_id'])[['sales_value']].sum()\n",
    "avg_check = check.groupby(['user_id'])[['sales_value']].mean()\n",
    "avg_check = avg_check.rename (columns= {'sales_value': 'avg_check'})\n",
    "max_check = check.groupby(['user_id'])[['sales_value']].max()\n",
    "max_check = max_check.rename (columns= {'sales_value': 'max_check'})\n",
    "\n",
    "del check\n",
    "gc.collect()"
   ]
  },
  {
   "cell_type": "code",
   "execution_count": 33,
   "metadata": {},
   "outputs": [
    {
     "data": {
      "text/plain": [
       "0"
      ]
     },
     "execution_count": 33,
     "metadata": {},
     "output_type": "execute_result"
    }
   ],
   "source": [
    "# средний и максимальный чек пользователя по категориям\n",
    "check_cat = spam_features_lvl_1.groupby(['user_id', 'basket_id', 'department'])[['sales_value']].sum()\n",
    "avg_check_cat = check_cat.groupby(['user_id', 'department'])[['sales_value']].mean()\n",
    "avg_check_cat = avg_check_cat.rename (columns= {'sales_value': 'avg_check_cat'})\n",
    "max_check_cat = check_cat.groupby(['user_id', 'department'])[['sales_value']].max()\n",
    "max_check_cat = max_check_cat.rename (columns= {'sales_value': 'max_check_cat'})\n",
    "\n",
    "del check_cat\n",
    "gc.collect()"
   ]
  },
  {
   "cell_type": "markdown",
   "metadata": {},
   "source": [
    "Фичи для товаров"
   ]
  },
  {
   "cell_type": "code",
   "execution_count": 34,
   "metadata": {},
   "outputs": [],
   "source": [
    "# мода возрастной категории, приобретающих товар\n",
    "age_mode = pd.DataFrame(spam_features_lvl_1.groupby('item_id')[['age_desc']].value_counts())\n",
    "age_mode = age_mode.rename (columns= {0: 'age_mode'})\n",
    "spam = list(age_mode.index)\n",
    "age_mode = {'item_id': [], 'age_mode': []}\n",
    "for i, el in enumerate(spam):\n",
    "    if spam[i][0] != spam[i-1][0]:\n",
    "        age_mode['item_id'].append(el[0])\n",
    "        age_mode['age_mode'].append(el[1])\n",
    "        \n",
    "age_mode = pd.DataFrame(age_mode, columns =['item_id', 'age_mode'])"
   ]
  },
  {
   "cell_type": "code",
   "execution_count": 35,
   "metadata": {},
   "outputs": [],
   "source": [
    "# мода категории дохода, приобретающих товар\n",
    "inc_mode = pd.DataFrame(spam_features_lvl_1.groupby('item_id')[['income_desc']].value_counts())\n",
    "inc_mode = inc_mode.rename (columns= {0: 'inc_mode'})\n",
    "spam = list(inc_mode.index)\n",
    "inc_mode = {'item_id': [], 'inc_mode': []}\n",
    "for i, el in enumerate(spam):\n",
    "    if spam[i][0] != spam[i-1][0]:\n",
    "        inc_mode['item_id'].append(el[0])\n",
    "        inc_mode['inc_mode'].append(el[1])\n",
    "        \n",
    "inc_mode = pd.DataFrame(inc_mode, columns =['item_id', 'inc_mode'])"
   ]
  },
  {
   "cell_type": "markdown",
   "metadata": {},
   "source": [
    "Собираем датафрейм для обучения"
   ]
  },
  {
   "cell_type": "code",
   "execution_count": 36,
   "metadata": {},
   "outputs": [],
   "source": [
    "# preds_lvl_2 = targets_lvl_2.copy()\n",
    "# targets_lvl_2 = preds_lvl_2.copy()"
   ]
  },
  {
   "cell_type": "code",
   "execution_count": 37,
   "metadata": {},
   "outputs": [],
   "source": [
    "targets_lvl_2 = targets_lvl_2.merge(item_features, on='item_id', how='left')\n",
    "targets_lvl_2 = targets_lvl_2.merge(user_features, on='user_id', how='left')\n",
    "\n",
    "targets_lvl_2 = targets_lvl_2.merge(age_mode, on='item_id', how='left')\n",
    "targets_lvl_2 = targets_lvl_2.merge(inc_mode, on='item_id', how='left')\n",
    "targets_lvl_2 = targets_lvl_2.merge(cat_num_week_buy, on='department', how='left')\n",
    "targets_lvl_2 = targets_lvl_2.merge(avg_check_cat_all_users, on='department', how='left')\n",
    "targets_lvl_2 = targets_lvl_2.merge(avg_check, on='user_id', how='left')\n",
    "targets_lvl_2 = targets_lvl_2.merge(max_check, on='user_id', how='left')\n",
    "targets_lvl_2 = targets_lvl_2.merge(avg_check_cat, on=['user_id', 'department'], how='left')\n",
    "targets_lvl_2 = targets_lvl_2.merge(max_check_cat, on=['user_id', 'department'], how='left')"
   ]
  },
  {
   "cell_type": "markdown",
   "metadata": {},
   "source": [
    "Делим данные на обучающую выборку и таргет"
   ]
  },
  {
   "cell_type": "code",
   "execution_count": 38,
   "metadata": {},
   "outputs": [],
   "source": [
    "# Заполняем пропуски\n",
    "targets_lvl_2 = targets_lvl_2.fillna('None/Unknown')\n",
    "targets_lvl_2.loc[targets_lvl_2['cat_num_week_buy'] == 'None/Unknown', 'cat_num_week_buy'] = 0.0\n",
    "targets_lvl_2.loc[targets_lvl_2['avg_check_cat_all_users'] == 'None/Unknown', 'avg_check_cat_all_users'] = 0.0\n",
    "targets_lvl_2.loc[targets_lvl_2['avg_check'] == 'None/Unknown', 'avg_check'] = 0.0\n",
    "targets_lvl_2.loc[targets_lvl_2['max_check'] == 'None/Unknown', 'max_check'] = 0.0\n",
    "targets_lvl_2.loc[targets_lvl_2['avg_check_cat'] == 'None/Unknown', 'avg_check_cat'] = 0.0\n",
    "targets_lvl_2.loc[targets_lvl_2['max_check_cat'] == 'None/Unknown', 'max_check_cat'] = 0.0"
   ]
  },
  {
   "cell_type": "code",
   "execution_count": 39,
   "metadata": {},
   "outputs": [],
   "source": [
    "targets_lvl_2[\"avg_check_cat\"] = targets_lvl_2.avg_check_cat.astype(np.float64)\n",
    "targets_lvl_2[\"max_check_cat\"] = targets_lvl_2.max_check_cat.astype(np.float64)"
   ]
  },
  {
   "cell_type": "code",
   "execution_count": 40,
   "metadata": {},
   "outputs": [],
   "source": [
    "X_train = targets_lvl_2.drop('target', axis=1)\n",
    "y_train = targets_lvl_2[['target']]"
   ]
  },
  {
   "cell_type": "code",
   "execution_count": 41,
   "metadata": {},
   "outputs": [],
   "source": [
    "cat_feats = X_train.columns[2:17].tolist()\n",
    "X_train[cat_feats] = X_train[cat_feats].astype('category')"
   ]
  },
  {
   "cell_type": "code",
   "execution_count": 42,
   "metadata": {},
   "outputs": [
    {
     "name": "stdout",
     "output_type": "stream",
     "text": [
      "CPU times: total: 1h 15min 55s\n",
      "Wall time: 6min 29s\n"
     ]
    },
    {
     "data": {
      "text/plain": [
       "<catboost.core.CatBoostClassifier at 0x1dca70f21c0>"
      ]
     },
     "execution_count": 42,
     "metadata": {},
     "output_type": "execute_result"
    }
   ],
   "source": [
    "%%time\n",
    "model = CatBoostClassifier(iterations=500)\n",
    "model.fit(X_train,y_train, cat_features=cat_feats, early_stopping_rounds=10,verbose=False)"
   ]
  },
  {
   "cell_type": "code",
   "execution_count": 43,
   "metadata": {},
   "outputs": [],
   "source": [
    "train_preds_proba = model.predict_proba(X_train)"
   ]
  },
  {
   "cell_type": "code",
   "execution_count": 44,
   "metadata": {},
   "outputs": [
    {
     "data": {
      "text/plain": [
       "array([0.02385627, 0.06531952, 0.0335524 , ..., 0.01555606, 0.03515512,\n",
       "       0.01063066])"
      ]
     },
     "execution_count": 44,
     "metadata": {},
     "output_type": "execute_result"
    }
   ],
   "source": [
    "train_preds_proba[:,1]"
   ]
  },
  {
   "cell_type": "code",
   "execution_count": 45,
   "metadata": {},
   "outputs": [],
   "source": [
    "preds_lvl_2 = targets_lvl_2[['user_id', 'item_id', 'target']]"
   ]
  },
  {
   "cell_type": "code",
   "execution_count": 46,
   "metadata": {},
   "outputs": [],
   "source": [
    "preds_lvl_2['pred_proba'] = train_preds_proba[:,1]"
   ]
  },
  {
   "cell_type": "markdown",
   "metadata": {},
   "source": [
    "Проверяем полученные предсказания"
   ]
  },
  {
   "cell_type": "code",
   "execution_count": 47,
   "metadata": {},
   "outputs": [
    {
     "data": {
      "text/html": [
       "<div>\n",
       "<style scoped>\n",
       "    .dataframe tbody tr th:only-of-type {\n",
       "        vertical-align: middle;\n",
       "    }\n",
       "\n",
       "    .dataframe tbody tr th {\n",
       "        vertical-align: top;\n",
       "    }\n",
       "\n",
       "    .dataframe thead th {\n",
       "        text-align: right;\n",
       "    }\n",
       "</style>\n",
       "<table border=\"1\" class=\"dataframe\">\n",
       "  <thead>\n",
       "    <tr style=\"text-align: right;\">\n",
       "      <th></th>\n",
       "      <th>user_id</th>\n",
       "      <th>actual</th>\n",
       "    </tr>\n",
       "  </thead>\n",
       "  <tbody>\n",
       "    <tr>\n",
       "      <th>0</th>\n",
       "      <td>1</td>\n",
       "      <td>[821867, 834484, 856942, 865456, 889248, 90795...</td>\n",
       "    </tr>\n",
       "    <tr>\n",
       "      <th>1</th>\n",
       "      <td>3</td>\n",
       "      <td>[835476, 851057, 872021, 878302, 879948, 90963...</td>\n",
       "    </tr>\n",
       "    <tr>\n",
       "      <th>2</th>\n",
       "      <td>6</td>\n",
       "      <td>[920308, 926804, 946489, 1006718, 1017061, 107...</td>\n",
       "    </tr>\n",
       "    <tr>\n",
       "      <th>3</th>\n",
       "      <td>7</td>\n",
       "      <td>[840386, 889774, 898068, 909714, 929067, 95347...</td>\n",
       "    </tr>\n",
       "    <tr>\n",
       "      <th>4</th>\n",
       "      <td>8</td>\n",
       "      <td>[835098, 872137, 910439, 924610, 992977, 10412...</td>\n",
       "    </tr>\n",
       "  </tbody>\n",
       "</table>\n",
       "</div>"
      ],
      "text/plain": [
       "   user_id                                             actual\n",
       "0        1  [821867, 834484, 856942, 865456, 889248, 90795...\n",
       "1        3  [835476, 851057, 872021, 878302, 879948, 90963...\n",
       "2        6  [920308, 926804, 946489, 1006718, 1017061, 107...\n",
       "3        7  [840386, 889774, 898068, 909714, 929067, 95347...\n",
       "4        8  [835098, 872137, 910439, 924610, 992977, 10412..."
      ]
     },
     "execution_count": 47,
     "metadata": {},
     "output_type": "execute_result"
    }
   ],
   "source": [
    "result = data_val_lvl_2.groupby('user_id')['item_id'].unique().reset_index()\n",
    "result.columns=['user_id', 'actual']\n",
    "result.head()"
   ]
  },
  {
   "cell_type": "code",
   "execution_count": 48,
   "metadata": {},
   "outputs": [
    {
     "name": "stdout",
     "output_type": "stream",
     "text": [
      "В тестовом дата сете 2042 юзеров\n",
      "В тестовом дата сете 127 новых юзеров\n"
     ]
    }
   ],
   "source": [
    "test_users = result.shape[0]\n",
    "new_test_users = len(set(data_val_lvl_2['user_id']) - set(preds_lvl_2['user_id']))\n",
    "\n",
    "print('В тестовом дата сете {} юзеров'.format(test_users))\n",
    "print('В тестовом дата сете {} новых юзеров'.format(new_test_users))\n",
    "new_test_users = list(set(data_val_lvl_2['user_id']) - set(preds_lvl_2['user_id']))"
   ]
  },
  {
   "cell_type": "code",
   "execution_count": 49,
   "metadata": {},
   "outputs": [],
   "source": [
    "# уберем пользователей, которых нет в трейне\n",
    "result = result[~result['user_id'].isin(new_test_users)]"
   ]
  },
  {
   "cell_type": "code",
   "execution_count": 50,
   "metadata": {},
   "outputs": [],
   "source": [
    "def get_recommendations_lvl_2(x, N=5):\n",
    "    spam_df = preds_lvl_2.loc[preds_lvl_2['user_id'] == x]\n",
    "    spam_df = spam_df.sort_values('pred_proba', ascending=False).head(N)\n",
    "    \n",
    "    return list(spam_df.item_id)"
   ]
  },
  {
   "cell_type": "code",
   "execution_count": 51,
   "metadata": {},
   "outputs": [
    {
     "name": "stdout",
     "output_type": "stream",
     "text": [
      "CPU times: total: 2.89 s\n",
      "Wall time: 2.88 s\n"
     ]
    }
   ],
   "source": [
    "%%time\n",
    "result['catboost_rec'] = result['user_id'].map(lambda x: get_recommendations_lvl_2(x, N=5))"
   ]
  },
  {
   "cell_type": "markdown",
   "metadata": {},
   "source": [
    "Сравним рекомендации 1го и 2го уровня по метрике Precision@k"
   ]
  },
  {
   "cell_type": "code",
   "execution_count": 54,
   "metadata": {},
   "outputs": [
    {
     "name": "stdout",
     "output_type": "stream",
     "text": [
      "Precision@k:  0.17152751754896828\n",
      "Precision@k:  0.029460348175194433\n"
     ]
    }
   ],
   "source": [
    "#lvl1\n",
    "print('Precision@k: ', result_lvl_1.apply(lambda row: recall_at_k(row['als_bm25_350'], row['actual'], 350), axis=1).mean())\n",
    "print('Precision@k: ', result_lvl_1.apply(lambda row: recall_at_k(row['als_bm25_350'], row['actual'], 5), axis=1).mean())"
   ]
  },
  {
   "cell_type": "code",
   "execution_count": 53,
   "metadata": {},
   "outputs": [
    {
     "name": "stdout",
     "output_type": "stream",
     "text": [
      "Precision@5:  0.3120626631853781\n",
      "MAP@k:  0.2613872932985211\n",
      "Recall@k:  0.036124205383452596\n"
     ]
    }
   ],
   "source": [
    "#lvl2\n",
    "print('Precision@5: ', result.apply(lambda row: precision_at_k(row['catboost_rec'], row['actual'], 5), axis=1).mean())\n",
    "print('MAP@k: ', result.apply(lambda row: ap_k(row['catboost_rec'], row['actual'], 5), axis=1).mean())\n",
    "print('Recall@k: ', result.apply(lambda row: recall_at_k(row['catboost_rec'], row['actual'], 5), axis=1).mean())"
   ]
  },
  {
   "cell_type": "markdown",
   "metadata": {},
   "source": [
    "**Выводы:** Метрика Precision@k на рекомеднациях модели 2го уровня существенно возрасла по сравнению с моделью lvl 1"
   ]
  }
 ],
 "metadata": {
  "colab": {
   "name": "hw_webinar_6.ipynb",
   "provenance": []
  },
  "kernelspec": {
   "display_name": "Python 3 (ipykernel)",
   "language": "python",
   "name": "python3"
  },
  "language_info": {
   "codemirror_mode": {
    "name": "ipython",
    "version": 3
   },
   "file_extension": ".py",
   "mimetype": "text/x-python",
   "name": "python",
   "nbconvert_exporter": "python",
   "pygments_lexer": "ipython3",
   "version": "3.9.12"
  }
 },
 "nbformat": 4,
 "nbformat_minor": 1
}
